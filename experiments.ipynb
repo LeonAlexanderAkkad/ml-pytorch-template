{
 "cells": [
  {
   "cell_type": "code",
   "execution_count": null,
   "id": "initial_id",
   "metadata": {
    "ExecuteTime": {
     "end_time": "2024-05-01T15:51:17.588437Z",
     "start_time": "2024-05-01T15:51:17.585637Z"
    }
   },
   "outputs": [],
   "source": [
    "%load_ext autoreload\n",
    "%autoreload 2\n",
    "import wandb as wb\n",
    "import numpy as np\n",
    "from dataset import TrainingDataset\n",
    "from torch.utils.data import DataLoader\n",
    "from torch import optim\n",
    "from sklearn.model_selection import train_test_split\n",
    "from models import *"
   ]
  },
  {
   "metadata": {},
   "cell_type": "code",
   "outputs": [],
   "execution_count": null,
   "source": [
    "# change these accordingly\n",
    "seed = Trainer.set_random_seed(None)\n",
    "data_path = \"\"\n",
    "target_path = \"\"\n",
    "transform = None\n",
    "dataset = TrainingDataset(data_path, target_path, transform)\n",
    "train_idx, test_idx = train_test_split(np.arange(len(dataset)), test_size=0.2)\n",
    "train_idx, val_idx = train_test_split(train_idx, test_size=0.2)\n",
    "train_data, val_data, test_data = dataset.split(train_idx, val_idx, test_idx)"
   ],
   "id": "e768d189b841f464"
  },
  {
   "metadata": {},
   "cell_type": "code",
   "outputs": [],
   "execution_count": null,
   "source": [
    "config={\n",
    "        \"epochs\": 10,\n",
    "        \"batch_size\": 32,\n",
    "        \"learning_rate\": 0.001,\n",
    "        \"model\": \"SimpleFNN\",\n",
    "        \"in_features\": 10,\n",
    "        \"hidden_features\": 128,\n",
    "        \"hidden_layers\": 5,\n",
    "        \"out_features\": 5,\n",
    "        \"optimizer\": \"Adam\",\n",
    "        \"loss\": \"CrossEntropyLoss\"\n",
    "    }\n",
    "device = Trainer.get_target_device()"
   ],
   "id": "200215a64d7b9d33"
  },
  {
   "cell_type": "code",
   "execution_count": null,
   "id": "b8f0357b0121987b",
   "metadata": {
    "ExecuteTime": {
     "end_time": "2024-05-01T15:22:43.585448Z",
     "start_time": "2024-05-01T15:22:25.358651Z"
    }
   },
   "outputs": [],
   "source": [
    "wb.login()"
   ]
  },
  {
   "cell_type": "code",
   "execution_count": null,
   "id": "7f1c5b721f62cd81",
   "metadata": {
    "ExecuteTime": {
     "end_time": "2024-05-01T15:28:34.453493Z",
     "start_time": "2024-05-01T15:28:24.461748Z"
    }
   },
   "outputs": [],
   "source": [
    "wb.init(\n",
    "    # set the wandb project where this run will be logged \n",
    "    project='ml-pytorch-template',\n",
    "    name=\"Test run\",\n",
    "    # track hyperparameters\n",
    "    config=config\n",
    ")\n",
    "config = wb.config"
   ]
  },
  {
   "cell_type": "code",
   "execution_count": null,
   "id": "9adf38907f6d43cd",
   "metadata": {},
   "outputs": [],
   "source": [
    "# define data loaders\n",
    "train_loader = DataLoader(train_data, batch_size=config[\"batch_size\"], shuffle=True)\n",
    "val_loader = DataLoader(val_data, batch_size=config[\"batch_size\"])\n",
    "test_loader = DataLoader(test_data, batch_size=config[\"batch_size\"])"
   ]
  },
  {
   "cell_type": "code",
   "execution_count": null,
   "id": "bae277a6c350b548",
   "metadata": {
    "ExecuteTime": {
     "end_time": "2024-05-01T15:51:23.442968Z",
     "start_time": "2024-05-01T15:51:23.329763Z"
    }
   },
   "outputs": [],
   "source": [
    "# define model, optimize and loss function\n",
    "model = SimpleFNN(n_input_features=config[\"in_features\"], n_hidden_features=config[\"hidden_features\"], n_hidden_layers=config[\"hidden_layers\"], n_output_features=config[\"out_features\"]).to(device)\n",
    "print(f\"Number of parameters to train: {sum(p.numel() for p in model.parameters())}\")\n",
    "optimizer = optim.Adam(model.parameters(), lr=config[\"learning_rate\"])\n",
    "loss_fn = nn.CrossEntropyLoss()\n",
    "trainer = Trainer(dataset, train_loader, val_loader, test_loader, model, optimizer, loss_fn, config[\"epochs\"])"
   ]
  },
  {
   "cell_type": "code",
   "execution_count": null,
   "id": "73bc9bffbaf50076",
   "metadata": {},
   "outputs": [],
   "source": "train_loss, train_acc, validation_loss, validation_acc, test_loss, test_acc = trainer.optimizing_predictor(\"outs\", None, False)"
  },
  {
   "cell_type": "code",
   "execution_count": null,
   "id": "2b40a40bc3d0c553",
   "metadata": {
    "ExecuteTime": {
     "end_time": "2024-05-01T15:31:24.838531Z",
     "start_time": "2024-05-01T15:31:19.386169Z"
    }
   },
   "outputs": [],
   "source": [
    "wb.finish()"
   ]
  }
 ],
 "metadata": {
  "kernelspec": {
   "display_name": "Python 3 (ipykernel)",
   "language": "python",
   "name": "python3"
  },
  "language_info": {
   "codemirror_mode": {
    "name": "ipython",
    "version": 3
   },
   "file_extension": ".py",
   "mimetype": "text/x-python",
   "name": "python",
   "nbconvert_exporter": "python",
   "pygments_lexer": "ipython3",
   "version": "3.11.8"
  }
 },
 "nbformat": 4,
 "nbformat_minor": 5
}
