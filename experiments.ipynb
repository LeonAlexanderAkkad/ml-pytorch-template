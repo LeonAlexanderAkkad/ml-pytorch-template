{
 "cells": [
  {
   "cell_type": "code",
   "execution_count": null,
   "id": "initial_id",
   "metadata": {
    "ExecuteTime": {
     "end_time": "2024-05-01T15:51:17.588437Z",
     "start_time": "2024-05-01T15:51:17.585637Z"
    }
   },
   "outputs": [],
   "source": [
    "import wandb as wb\n",
    "from training import optimizing_predictor, get_target_device\n",
    "from dataset import AbstractTrainingDataset\n",
    "from torch.utils.data import DataLoader\n",
    "from torch import optim\n",
    "from models import *"
   ]
  },
  {
   "cell_type": "code",
   "execution_count": null,
   "id": "b8f0357b0121987b",
   "metadata": {
    "ExecuteTime": {
     "end_time": "2024-05-01T15:22:43.585448Z",
     "start_time": "2024-05-01T15:22:25.358651Z"
    }
   },
   "outputs": [],
   "source": [
    "wb.login()"
   ]
  },
  {
   "cell_type": "code",
   "execution_count": null,
   "id": "7f1c5b721f62cd81",
   "metadata": {
    "ExecuteTime": {
     "end_time": "2024-05-01T15:28:34.453493Z",
     "start_time": "2024-05-01T15:28:24.461748Z"
    }
   },
   "outputs": [],
   "source": [
    "wb.init(\n",
    "    # set the wandb project where this run will be logged \n",
    "    project='ml-pytorch-template',\n",
    "    name=\"Test run\",\n",
    "    # track hyperparameters\n",
    "    config={\n",
    "        \"epochs\": 10,\n",
    "        \"batch_size\": 32,\n",
    "        \"learning_rate\": 0.001,\n",
    "        \"model\": \"SimpleFNN\",\n",
    "        \"in_features\": 10,\n",
    "        \"hidden_features\": 128,\n",
    "        \"hidden_layers\": 5,\n",
    "        \"out_features\": 5,\n",
    "        \"optimizer\": \"Adam\",\n",
    "        \"loss\": \"CrossEntropyLoss\"\n",
    "    },\n",
    ")"
   ]
  },
  {
   "cell_type": "code",
   "execution_count": null,
   "id": "46f5a79cca6eebac",
   "metadata": {},
   "outputs": [],
   "source": [
    "# change these accordingly\n",
    "train_dataset = AbstractTrainingDataset(\"path_to_data\", \"path_to_targets\")\n",
    "val_dataset = AbstractTrainingDataset(\"path_to_data\", \"path_to_targets\")\n",
    "test_dataset = AbstractTrainingDataset(\"path_to_data\", \"path_to_targets\")"
   ]
  },
  {
   "cell_type": "code",
   "execution_count": null,
   "id": "9adf38907f6d43cd",
   "metadata": {},
   "outputs": [],
   "source": [
    "# define data loaders\n",
    "train_loader = DataLoader(train_dataset, batch_size=wb.config[\"batch_size\"], shuffle=True)\n",
    "val_loader = DataLoader(val_dataset, batch_size=wb.config[\"batch_size\"])\n",
    "test_loader = DataLoader(test_dataset, batch_size=wb.config[\"batch_size\"])"
   ]
  },
  {
   "cell_type": "code",
   "execution_count": null,
   "id": "bae277a6c350b548",
   "metadata": {
    "ExecuteTime": {
     "end_time": "2024-05-01T15:51:23.442968Z",
     "start_time": "2024-05-01T15:51:23.329763Z"
    }
   },
   "outputs": [],
   "source": [
    "# define model, optimize and loss function\n",
    "device = get_target_device()\n",
    "model = SimpleFNN(n_input_features=wb.config[\"in_features\"], n_hidden_features=wb.config[\"hidden_features\"], n_hidden_layers=wb.config[\"hidden_layers\"], n_output_features=wb.config[\"out_features\"]).to(device)\n",
    "optimizer = optim.Adam(model.parameters(), lr=wb.config[\"learning_rate\"])\n",
    "loss_fn = nn.CrossEntropyLoss()"
   ]
  },
  {
   "cell_type": "code",
   "execution_count": null,
   "id": "73bc9bffbaf50076",
   "metadata": {},
   "outputs": [],
   "source": [
    "%wb\n",
    "\n",
    "train_loss, validation_loss, test_loss = optimizing_predictor(train_loader, val_loader, test_loader, model, wb.config[\"epochs\"], loss_fn, optimizer, \"outs\", wb.config[\"learning_rate\"], True)"
   ]
  },
  {
   "cell_type": "code",
   "execution_count": null,
   "id": "2b40a40bc3d0c553",
   "metadata": {
    "ExecuteTime": {
     "end_time": "2024-05-01T15:31:24.838531Z",
     "start_time": "2024-05-01T15:31:19.386169Z"
    }
   },
   "outputs": [],
   "source": [
    "wb.finish()"
   ]
  }
 ],
 "metadata": {
  "kernelspec": {
   "display_name": "Python 3 (ipykernel)",
   "language": "python",
   "name": "python3"
  },
  "language_info": {
   "codemirror_mode": {
    "name": "ipython",
    "version": 3
   },
   "file_extension": ".py",
   "mimetype": "text/x-python",
   "name": "python",
   "nbconvert_exporter": "python",
   "pygments_lexer": "ipython3",
   "version": "3.11.8"
  }
 },
 "nbformat": 4,
 "nbformat_minor": 5
}
